{
 "cells": [
  {
   "cell_type": "code",
   "execution_count": 1,
   "id": "cf039fc8-7d86-44c7-86ed-8dbcd1e3fcf0",
   "metadata": {},
   "outputs": [],
   "source": [
    "import arxiv\n",
    "import json\n",
    "import os\n",
    "from dotenv import load_dotenv\n",
    "from typing import List\n",
    "from openai import OpenAI"
   ]
  },
  {
   "cell_type": "code",
   "execution_count": 2,
   "id": "c2592feb-3a9d-4c47-8d12-7e879d4c07d8",
   "metadata": {},
   "outputs": [
    {
     "data": {
      "text/plain": [
       "True"
      ]
     },
     "execution_count": 2,
     "metadata": {},
     "output_type": "execute_result"
    }
   ],
   "source": [
    "PAPER_DIR = \"papers\"\n",
    "load_dotenv()"
   ]
  },
  {
   "cell_type": "markdown",
   "id": "25514584-c3c5-43b3-96b1-daf49bfbcc81",
   "metadata": {},
   "source": [
    "## Tool Functions"
   ]
  },
  {
   "cell_type": "code",
   "execution_count": 63,
   "id": "d715fda7-2012-4db0-8208-99912b03f390",
   "metadata": {},
   "outputs": [],
   "source": [
    "def search_papers(topic: str, max_results: int = 5) -> List[str]:\n",
    "    \"\"\"\n",
    "    Search for papers on arXiv based on a topic and store their information.\n",
    "    \n",
    "    Args:\n",
    "        topic: The topic to search for\n",
    "        max_results: Maximum number of results to retrieve (default: 5)\n",
    "        \n",
    "    Returns:\n",
    "        List of paper IDs found in the search\n",
    "    \"\"\"\n",
    "    \n",
    "    # Use arxiv to find the papers \n",
    "    client = arxiv.Client()\n",
    "\n",
    "    # Search for the most relevant articles matching the queried topic\n",
    "    search = arxiv.Search(\n",
    "        query = topic,\n",
    "        max_results = max_results,\n",
    "        sort_by = arxiv.SortCriterion.Relevance\n",
    "    )\n",
    "\n",
    "    papers = client.results(search)\n",
    "    \n",
    "    # Create directory for this topic\n",
    "    path = os.path.join(PAPER_DIR, topic.lower().replace(\" \", \"_\"))\n",
    "    os.makedirs(path, exist_ok=True)\n",
    "    \n",
    "    file_path = os.path.join(path, \"papers_info.json\")\n",
    "\n",
    "    # Try to load existing papers info\n",
    "    try:\n",
    "        with open(file_path, \"r\") as json_file:\n",
    "            papers_info = json.load(json_file)\n",
    "    except (FileNotFoundError, json.JSONDecodeError):\n",
    "        papers_info = {}\n",
    "\n",
    "    # Process each paper and add to papers_info  \n",
    "    paper_ids = []\n",
    "    for paper in papers:\n",
    "        paper_ids.append(paper.get_short_id())\n",
    "        paper_info = {\n",
    "            'title': paper.title,\n",
    "            'authors': [author.name for author in paper.authors],\n",
    "            'summary': paper.summary,\n",
    "            'pdf_url': paper.pdf_url,\n",
    "            'published': str(paper.published.date())\n",
    "        }\n",
    "        papers_info[paper.get_short_id()] = paper_info\n",
    "    \n",
    "    # Save updated papers_info to json file\n",
    "    with open(file_path, \"w\") as json_file:\n",
    "        json.dump(papers_info, json_file, indent=2)\n",
    "    \n",
    "    print(f\"Results are saved in: {file_path}\")\n",
    "    \n",
    "    return paper_ids"
   ]
  },
  {
   "cell_type": "code",
   "execution_count": 64,
   "id": "3b3df7dd-1984-4a9f-9d12-cef9b08ec989",
   "metadata": {},
   "outputs": [
    {
     "name": "stdout",
     "output_type": "stream",
     "text": [
      "Results are saved in: papers/computers/papers_info.json\n"
     ]
    },
    {
     "data": {
      "text/plain": [
       "['1310.7911v2',\n",
       " 'math/9711204v1',\n",
       " '2208.00733v1',\n",
       " '2504.07020v1',\n",
       " '2403.03925v1']"
      ]
     },
     "execution_count": 64,
     "metadata": {},
     "output_type": "execute_result"
    }
   ],
   "source": [
    "search_papers(\"computers\")"
   ]
  },
  {
   "cell_type": "code",
   "execution_count": 65,
   "id": "b3fdf3da-88fc-47df-b29f-57be8bd17ad1",
   "metadata": {},
   "outputs": [],
   "source": [
    "def extract_info(paper_id: str) -> str:\n",
    "    \"\"\"\n",
    "    Search for information about a specific paper across all topic directories.\n",
    "    Args:\n",
    "        paper_id: The ID of paper to look for\n",
    "    Returns:\n",
    "        JSON string with paper informationif found, error message if not found\n",
    "    \"\"\"\n",
    "\n",
    "    for item in os.listdir(PAPER_DIR):\n",
    "        item_path = os.path.join(PAPER_DIR, item)\n",
    "        if os.path.isdir(item_path):\n",
    "            file_path = os.path.join(item_path, \"papers_info.json\")\n",
    "            if os.path.isfile(file_path):\n",
    "                try:\n",
    "                    with open(file_path, \"r\") as json_file:\n",
    "                        papers_info = json.load(json_file)\n",
    "                        if paper_id in papers_info:\n",
    "                            return json.dumps(papers_info[paper_id], indent = 2)\n",
    "                except (FileNotFoundError, json.JSONDecodeError) as e:\n",
    "                    print(f\"Error reading {file_path}: {str(e)}\")\n",
    "                    continue\n",
    "\n",
    "    return f\"There's no saved information related to paper {paper_id}.\"\n",
    "                "
   ]
  },
  {
   "cell_type": "code",
   "execution_count": 66,
   "id": "5601027a-c33c-4741-9ff6-4a1287351d95",
   "metadata": {},
   "outputs": [
    {
     "data": {
      "text/plain": [
       "'{\\n  \"title\": \"Compact manifolds with computable boundaries\",\\n  \"authors\": [\\n    \"Zvonko Iljazovic\"\\n  ],\\n  \"summary\": \"We investigate conditions under which a co-computably enumerable closed set\\\\nin a computable metric space is computable and prove that in each locally\\\\ncomputable computable metric space each co-computably enumerable compact\\\\nmanifold with computable boundary is computable. In fact, we examine the notion\\\\nof a semi-computable compact set and we prove a more general result: in any\\\\ncomputable metric space each semi-computable compact manifold with computable\\\\nboundary is computable. In particular, each semi-computable compact\\\\n(boundaryless) manifold is computable.\",\\n  \"pdf_url\": \"http://arxiv.org/pdf/1310.7911v2\",\\n  \"published\": \"2013-10-29\"\\n}'"
      ]
     },
     "execution_count": 66,
     "metadata": {},
     "output_type": "execute_result"
    }
   ],
   "source": [
    "extract_info('1310.7911v2')"
   ]
  },
  {
   "cell_type": "markdown",
   "id": "de3b3d0a-18a3-4c69-b39d-5e27357c7822",
   "metadata": {},
   "source": [
    "## Tool Functions"
   ]
  },
  {
   "cell_type": "code",
   "execution_count": 67,
   "id": "c0360b62-7496-4dfa-bea7-098c15986906",
   "metadata": {},
   "outputs": [],
   "source": [
    "tools = [\n",
    "    {\n",
    "        \"type\": \"function\",\n",
    "        \"function\": {\n",
    "            \"name\": \"search_papers\",\n",
    "            \"description\": \"Search for papers on arXiv based on a topic and store their information.\",\n",
    "            \"parameters\": {\n",
    "                \"type\": \"object\",\n",
    "                \"properties\": {\n",
    "                    \"topic\": {\n",
    "                        \"type\": \"string\",\n",
    "                        \"description\": \"The topic to search for\"\n",
    "                    }\n",
    "                },\n",
    "                \"required\": [\"topic\"]\n",
    "            }\n",
    "        }\n",
    "    },\n",
    "    {\n",
    "        \"type\": \"function\",\n",
    "        \"function\": {\n",
    "            \"name\": \"extract_info\",\n",
    "            \"description\": \"Search for information about a specific paper across all topic directories.\",\n",
    "            \"parameters\": {\n",
    "                \"type\": \"object\",\n",
    "                \"properties\": {\n",
    "                    \"paper_id\": {\n",
    "                        \"type\": \"string\",\n",
    "                        \"description\": \"The ID of the paper to look for\"\n",
    "                    }\n",
    "                },\n",
    "                \"required\": [\"paper_id\"]\n",
    "            }\n",
    "        }\n",
    "    }\n",
    "]\n"
   ]
  },
  {
   "cell_type": "markdown",
   "id": "40545b60-47a4-4dad-a874-e6ee231a1c61",
   "metadata": {},
   "source": [
    "## Tool Mapping"
   ]
  },
  {
   "cell_type": "code",
   "execution_count": 68,
   "id": "36a9f81f-84f7-4439-b239-f17ad9b5bfd6",
   "metadata": {},
   "outputs": [],
   "source": [
    "mapping_tool_function = {\n",
    "    \"search_papers\": search_papers,\n",
    "    \"extract_info\": extract_info\n",
    "}\n",
    "\n",
    "def execute_tool(tool_name, tool_args):\n",
    "    result = mapping_tool_function[tool_name](**tool_args)\n",
    "\n",
    "    if result is None:\n",
    "        result = \"The operation completed but did not return any results.\"\n",
    "    \n",
    "    elif isinstance(result, list):\n",
    "        result = ', '.join(result)\n",
    "\n",
    "    elif isinstance(result, dict):\n",
    "        # Convert dictionaries to formatted JSON strings\n",
    "        result = json.dumps(result, indent = 2)\n",
    "    else:\n",
    "        # For any other type convert using string\n",
    "        result = str(result)\n",
    "    return result"
   ]
  },
  {
   "cell_type": "code",
   "execution_count": 69,
   "id": "c19fb978-0124-4c03-baba-38b03ce7a458",
   "metadata": {},
   "outputs": [],
   "source": [
    "client = OpenAI(api_key=os.getenv(\"OPENAI_API_KEY\"))"
   ]
  },
  {
   "cell_type": "markdown",
   "id": "d272d1b9-1bf6-4a54-b155-85c6b74e3238",
   "metadata": {},
   "source": [
    "## Query Processing"
   ]
  },
  {
   "cell_type": "code",
   "execution_count": 70,
   "id": "e354ce20-bd81-4aaf-a7f2-1a36348389d0",
   "metadata": {},
   "outputs": [],
   "source": [
    "def process_query(query):\n",
    "    messages = [{'role': 'user', 'content': query}]\n",
    "    process_loop = True\n",
    "\n",
    "    while process_loop:\n",
    "        response = client.chat.completions.create(\n",
    "            model=\"gpt-4o-mini\",\n",
    "            messages=messages,\n",
    "            tools=tools,\n",
    "            tool_choice=\"auto\",\n",
    "            max_tokens=2024\n",
    "        )\n",
    "\n",
    "        reply = response.choices[0].message\n",
    "        tool_calls = reply.tool_calls\n",
    "\n",
    "        if tool_calls:\n",
    "            messages.append(reply)  # assistant tool call message\n",
    "\n",
    "            for tool_call in tool_calls:\n",
    "                tool_name = tool_call.function.name\n",
    "                tool_args = json.loads(tool_call.function.arguments)\n",
    "                tool_id = tool_call.id\n",
    "\n",
    "                print(f\"\\n🛠 Calling tool {tool_name} with args {tool_args}\")\n",
    "\n",
    "                result = execute_tool(tool_name, tool_args)\n",
    "\n",
    "                messages.append({\n",
    "                    \"role\": \"tool\",\n",
    "                    \"tool_call_id\": tool_id,\n",
    "                    \"content\": result\n",
    "                })\n",
    "        else:\n",
    "            print(f\"\\n🤖 Assistant: {reply.content}\")\n",
    "            messages.append(reply)\n",
    "            process_loop = False\n"
   ]
  },
  {
   "cell_type": "code",
   "execution_count": 71,
   "id": "529ba448-295a-4221-b08e-e203765e6b1a",
   "metadata": {},
   "outputs": [],
   "source": [
    "def chat_loop():\n",
    "    print(\"Type your queries or 'quit' to exit.\")\n",
    "    while True:\n",
    "        try:\n",
    "            query = input(\"\\nQuery: \").strip()\n",
    "            if query.lower() == 'quit':\n",
    "                break\n",
    "    \n",
    "            process_query(query)\n",
    "            print(\"\\n\")\n",
    "        except Exception as e:\n",
    "            print(f\"\\nError: {str(e)}\")"
   ]
  },
  {
   "cell_type": "code",
   "execution_count": 72,
   "id": "9f4e9eca-fc28-47a1-8566-579e6a428215",
   "metadata": {},
   "outputs": [
    {
     "name": "stdout",
     "output_type": "stream",
     "text": [
      "Type your queries or 'quit' to exit.\n"
     ]
    },
    {
     "name": "stdin",
     "output_type": "stream",
     "text": [
      "\n",
      "Query:  hi\n"
     ]
    },
    {
     "name": "stdout",
     "output_type": "stream",
     "text": [
      "\n",
      "🤖 Assistant: Hello! How can I assist you today?\n",
      "\n",
      "\n"
     ]
    },
    {
     "name": "stdin",
     "output_type": "stream",
     "text": [
      "\n",
      "Query:  search for paper on algebra\n"
     ]
    },
    {
     "name": "stdout",
     "output_type": "stream",
     "text": [
      "\n",
      "🛠 Calling tool search_papers with args {'topic': 'algebra'}\n",
      "Results are saved in: papers/algebra/papers_info.json\n",
      "\n",
      "🛠 Calling tool extract_info with args {'paper_id': '1104.3954v1'}\n",
      "\n",
      "🛠 Calling tool extract_info with args {'paper_id': 'math/0501518v2'}\n",
      "\n",
      "🛠 Calling tool extract_info with args {'paper_id': '1012.2844v1'}\n",
      "\n",
      "🛠 Calling tool extract_info with args {'paper_id': '1607.02068v1'}\n",
      "\n",
      "🛠 Calling tool extract_info with args {'paper_id': 'math/0506093v1'}\n",
      "\n",
      "🤖 Assistant: Here are some recent papers on the topic of algebra:\n",
      "\n",
      "1. **Invariant Algebras**\n",
      "   - **Authors**: Keqin Liu\n",
      "   - **Published**: 2011-04-20\n",
      "   - **Summary**: The paper introduces invariant algebras and representations of algebras, providing methods for constructing various types of algebras such as Lie algebras, Jordan algebras, and more.\n",
      "   - **PDF**: [Download Here](http://arxiv.org/pdf/1104.3954v1)\n",
      "\n",
      "2. **Deformation of algebras over the Landweber-Novikov algebra**\n",
      "   - **Authors**: Donald Yau\n",
      "   - **Published**: 2005-01-28\n",
      "   - **Summary**: This work presents an algebraic deformation theory for algebras over the Landweber-Novikov algebra.\n",
      "   - **PDF**: [Download Here](http://arxiv.org/pdf/math/0501518v2)\n",
      "\n",
      "3. **Hopf-like Algebras and Extended P-B-W Theorems**\n",
      "   - **Authors**: Keqin Liu\n",
      "   - **Published**: 2010-12-13\n",
      "   - **Summary**: The paper discusses the introduction of representations of Lie algebras and Leibniz algebras using invariant algebras, along with the extended P-B-W Theorems, generalizing the Hopf-algebra structure.\n",
      "   - **PDF**: [Download Here](http://arxiv.org/pdf/1012.2844v1)\n",
      "\n",
      "4. **Deformation quantization of vertex Poisson algebras**\n",
      "   - **Authors**: Shintarou Yanagida\n",
      "   - **Published**: 2016-07-07\n",
      "   - **Summary**: This paper introduces dg Lie algebras that control the deformations of vertex algebras and vertex Poisson algebras, exploring the deformation quantization problem.\n",
      "   - **PDF**: [Download Here](http://arxiv.org/pdf/1607.02068v1)\n",
      "\n",
      "5. **Symplectic reflection algebras and non-homogeneous N-Koszul property**\n",
      "   - **Authors**: Roland Berger, Victor Ginzburg\n",
      "   - **Published**: 2005-06-06\n",
      "   - **Summary**: The authors introduce algebras derived from symplectic reflection algebras, demonstrating their relation to non-homogeneous N-Koszul algebras through a PBW theorem.\n",
      "   - **PDF**: [Download Here](http://arxiv.org/pdf/math/0506093v1) \n",
      "\n",
      "If you need more detailed information or specific topics within algebra, feel free to ask!\n",
      "\n",
      "\n"
     ]
    },
    {
     "name": "stdin",
     "output_type": "stream",
     "text": [
      "\n",
      "Query:  quit\n"
     ]
    }
   ],
   "source": [
    "chat_loop()"
   ]
  },
  {
   "cell_type": "code",
   "execution_count": null,
   "id": "8fd4e896-f009-4b29-a237-0226e5e36087",
   "metadata": {},
   "outputs": [],
   "source": []
  }
 ],
 "metadata": {
  "kernelspec": {
   "display_name": "Python 3 (ipykernel)",
   "language": "python",
   "name": "python3"
  },
  "language_info": {
   "codemirror_mode": {
    "name": "ipython",
    "version": 3
   },
   "file_extension": ".py",
   "mimetype": "text/x-python",
   "name": "python",
   "nbconvert_exporter": "python",
   "pygments_lexer": "ipython3",
   "version": "3.12.3"
  }
 },
 "nbformat": 4,
 "nbformat_minor": 5
}
