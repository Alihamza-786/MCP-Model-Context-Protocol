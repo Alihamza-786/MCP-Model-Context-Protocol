{
 "cells": [
  {
   "cell_type": "code",
   "execution_count": 9,
   "id": "367f6c0b-7e75-4e8e-8a12-a8a932cf95e9",
   "metadata": {},
   "outputs": [
    {
     "name": "stdout",
     "output_type": "stream",
     "text": [
      "Server is running at:\n",
      "https://s172-29-51-224p8001.lab-aws-production.deeplearning.ai/sse\n"
     ]
    }
   ],
   "source": [
    "import os\n",
    "os.environ[\"DLAI_LOCAL_URL\"] = \"https://s172-29-51-224p8001.lab-aws-production.deeplearning.ai/sse\"\n",
    "print(\"Server is running at:\")\n",
    "print(os.environ.get('DLAI_LOCAL_URL').format(port=8001))"
   ]
  },
  {
   "cell_type": "code",
   "execution_count": 15,
   "id": "dac3bfe3-78cb-4dd0-89b5-bfc137b9460f",
   "metadata": {},
   "outputs": [
    {
     "data": {
      "text/html": [
       "\n",
       "        <iframe\n",
       "            width=\"660\"\n",
       "            height=\"600\"\n",
       "            src=\"https://s172-29-51-224p8888.lab-aws-production.deeplearning.ai/terminals/1\"\n",
       "            frameborder=\"0\"\n",
       "            allowfullscreen\n",
       "            \n",
       "        ></iframe>\n",
       "        "
      ],
      "text/plain": [
       "<IPython.lib.display.IFrame at 0x70e901b7fbc0>"
      ]
     },
     "execution_count": 15,
     "metadata": {},
     "output_type": "execute_result"
    }
   ],
   "source": [
    "import os\n",
    "from IPython.display import IFrame\n",
    "\n",
    "# Set the base URL with {port} as a placeholder\n",
    "os.environ[\"DLAI_LOCAL_URL\"] = \"https://s172-29-51-224p{port}.lab-aws-production.deeplearning.ai/\"\n",
    "\n",
    "# Format the URL with the correct port\n",
    "url = os.environ.get('DLAI_LOCAL_URL').format(port=8888)\n",
    "\n",
    "# Embed terminal 1 via IFrame\n",
    "IFrame(f\"{url}terminals/1\", width=660, height=600)\n"
   ]
  },
  {
   "cell_type": "code",
   "execution_count": null,
   "id": "df9cb2a3-76d7-4115-85b7-e431311f626d",
   "metadata": {},
   "outputs": [],
   "source": []
  }
 ],
 "metadata": {
  "kernelspec": {
   "display_name": "Python 3 (ipykernel)",
   "language": "python",
   "name": "python3"
  },
  "language_info": {
   "codemirror_mode": {
    "name": "ipython",
    "version": 3
   },
   "file_extension": ".py",
   "mimetype": "text/x-python",
   "name": "python",
   "nbconvert_exporter": "python",
   "pygments_lexer": "ipython3",
   "version": "3.12.3"
  }
 },
 "nbformat": 4,
 "nbformat_minor": 5
}
