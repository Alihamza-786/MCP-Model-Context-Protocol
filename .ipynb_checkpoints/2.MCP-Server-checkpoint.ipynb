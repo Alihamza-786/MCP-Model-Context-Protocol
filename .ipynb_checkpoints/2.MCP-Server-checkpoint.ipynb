{
 "cells": [
  {
   "cell_type": "markdown",
   "id": "43453fb6-6960-4592-be24-fcd91dd0ea5c",
   "metadata": {},
   "source": [
    "# Creating an MCP Server"
   ]
  },
  {
   "cell_type": "code",
   "execution_count": 18,
   "id": "f8e566a5-9745-44c9-9b66-afbaac14eb15",
   "metadata": {},
   "outputs": [
    {
     "name": "stdout",
     "output_type": "stream",
     "text": [
      "Overwriting mcp_project/research_server.py\n"
     ]
    }
   ],
   "source": [
    "%%writefile mcp_project/research_server.py\n",
    "import arxiv\n",
    "import json\n",
    "import os\n",
    "from typing import List\n",
    "from mcp.server.fastmcp import FastMCP\n",
    "\n",
    "mcp = FastMCP(\"research\")\n",
    "PAPER_DIR = \"papers\"\n",
    "\n",
    "@mcp.tool()\n",
    "def search_papers(topic: str, max_results: int = 5) -> List[str]:\n",
    "    \"\"\"\n",
    "    Search for papers on arXiv based on a topic and store their information.\n",
    "    \n",
    "    Args:\n",
    "        topic: The topic to search for\n",
    "        max_results: Maximum number of results to retrieve (default: 5)\n",
    "        \n",
    "    Returns:\n",
    "        List of paper IDs found in the search\n",
    "    \"\"\"\n",
    "    \n",
    "    # Use arxiv to find the papers \n",
    "    client = arxiv.Client()\n",
    "\n",
    "    # Search for the most relevant articles matching the queried topic\n",
    "    search = arxiv.Search(\n",
    "        query = topic,\n",
    "        max_results = max_results,\n",
    "        sort_by = arxiv.SortCriterion.Relevance\n",
    "    )\n",
    "\n",
    "    papers = client.results(search)\n",
    "    \n",
    "    # Create directory for this topic\n",
    "    path = os.path.join(PAPER_DIR, topic.lower().replace(\" \", \"_\"))\n",
    "    os.makedirs(path, exist_ok=True)\n",
    "    \n",
    "    file_path = os.path.join(path, \"papers_info.json\")\n",
    "\n",
    "    # Try to load existing papers info\n",
    "    try:\n",
    "        with open(file_path, \"r\") as json_file:\n",
    "            papers_info = json.load(json_file)\n",
    "    except (FileNotFoundError, json.JSONDecodeError):\n",
    "        papers_info = {}\n",
    "\n",
    "    # Process each paper and add to papers_info  \n",
    "    paper_ids = []\n",
    "    for paper in papers:\n",
    "        paper_ids.append(paper.get_short_id())\n",
    "        paper_info = {\n",
    "            'title': paper.title,\n",
    "            'authors': [author.name for author in paper.authors],\n",
    "            'summary': paper.summary,\n",
    "            'pdf_url': paper.pdf_url,\n",
    "            'published': str(paper.published.date())\n",
    "        }\n",
    "        papers_info[paper.get_short_id()] = paper_info\n",
    "    \n",
    "    # Save updated papers_info to json file\n",
    "    with open(file_path, \"w\") as json_file:\n",
    "        json.dump(papers_info, json_file, indent=2)\n",
    "    \n",
    "    print(f\"Results are saved in: {file_path}\")\n",
    "    \n",
    "    return paper_ids\n",
    "\n",
    "@mcp.tool()\n",
    "def extract_info(paper_id: str) -> str:\n",
    "    for item in os.listdir(PAPER_DIR):\n",
    "        item_path = os.path.join(PAPER_DIR, item)\n",
    "        if os.path.isdir(item_path):\n",
    "            file_path = os.path.join(item_path, \"papers_info.json\")\n",
    "            if os.path.isfile(file_path):\n",
    "                print(f\"[extract_info] Searching for ID: {paper_id} in {file_path}\")\n",
    "                try:\n",
    "                    with open(file_path, \"r\") as json_file:\n",
    "                        papers_info = json.load(json_file)\n",
    "                        if paper_id in papers_info:\n",
    "                            print(f\"[extract_info] ✅ Found in: {file_path}\")\n",
    "                            return json.dumps(papers_info[paper_id], indent=2)\n",
    "                except (FileNotFoundError, json.JSONDecodeError) as e:\n",
    "                    print(f\"Error reading {file_path}: {str(e)}\")\n",
    "                    continue\n",
    "\n",
    "    print(f\"[extract_info] ❌ Not found: {paper_id}\")\n",
    "    return f\"There's no saved information related to paper {paper_id}.\"\n",
    "\n",
    "\n",
    "if __name__ == \"__main__\":\n",
    "    # Initialize and run the server\n",
    "    mcp.run(transport='stdio')"
   ]
  },
  {
   "cell_type": "markdown",
   "id": "fce3c021-f2e8-4749-b602-7c677533e9fc",
   "metadata": {},
   "source": [
    "# Commands"
   ]
  },
  {
   "cell_type": "markdown",
   "id": "1dbe6fec-a3a8-447a-aa50-81d9a98a9d32",
   "metadata": {},
   "source": [
    "Navigate to the project directory and initiate it with uv:\n",
    "\n",
    "- cd mcp_project\n",
    "- uv init\n",
    "\n",
    "Create virtual environment and activate it\n",
    "- uv venv\n",
    "- source .venv/bin/activate\n",
    "\n",
    "Install dependencies:\n",
    "\n",
    "- uv add mcp arxiv\n",
    "\n",
    "Launch the inspector:\n",
    "\n",
    "- npx @modelcontextprotocol/inspector uv run research_server.py"
   ]
  },
  {
   "cell_type": "markdown",
   "id": "6ec99bff-52b0-47e3-bb78-a40f70ca7ea9",
   "metadata": {},
   "source": [
    "# When inspector open then:\n",
    "1. You have to type __uv__ in command section\n",
    "2. You have to type __run research_server.py__ under arguments section"
   ]
  },
  {
   "cell_type": "code",
   "execution_count": 19,
   "id": "14199177-5fb3-458e-8c63-b5d10ac6a130",
   "metadata": {},
   "outputs": [
    {
     "data": {
      "text/html": [
       "\n",
       "        <iframe\n",
       "            width=\"600\"\n",
       "            height=\"768\"\n",
       "            src=\"http://localhost:8888/terminals/1\"\n",
       "            frameborder=\"0\"\n",
       "            allowfullscreen\n",
       "            \n",
       "        ></iframe>\n",
       "        "
      ],
      "text/plain": [
       "<IPython.lib.display.IFrame at 0x7e32202b6660>"
      ]
     },
     "execution_count": 19,
     "metadata": {},
     "output_type": "execute_result"
    }
   ],
   "source": [
    "# start a new terminal\n",
    "import os\n",
    "from IPython.display import IFrame\n",
    "\n",
    "IFrame(\"http://localhost:8888/terminals/1\", width=600, height=768)"
   ]
  },
  {
   "cell_type": "markdown",
   "id": "063095b5-0e02-4796-9987-6d2e1f4fd6d0",
   "metadata": {},
   "source": [
    "![inspector](images/mcp-inspector.png)"
   ]
  }
 ],
 "metadata": {
  "kernelspec": {
   "display_name": "Python 3 (ipykernel)",
   "language": "python",
   "name": "python3"
  },
  "language_info": {
   "codemirror_mode": {
    "name": "ipython",
    "version": 3
   },
   "file_extension": ".py",
   "mimetype": "text/x-python",
   "name": "python",
   "nbconvert_exporter": "python",
   "pygments_lexer": "ipython3",
   "version": "3.12.3"
  }
 },
 "nbformat": 4,
 "nbformat_minor": 5
}
